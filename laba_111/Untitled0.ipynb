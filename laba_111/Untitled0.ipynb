{
  "nbformat": 4,
  "nbformat_minor": 0,
  "metadata": {
    "colab": {
      "provenance": []
    },
    "kernelspec": {
      "name": "python3",
      "display_name": "Python 3"
    },
    "language_info": {
      "name": "python"
    }
  },
  "cells": [
    {
      "cell_type": "code",
      "execution_count": 6,
      "metadata": {
        "colab": {
          "base_uri": "https://localhost:8080/"
        },
        "id": "0UCU6p1ZUB7H",
        "outputId": "08af6e37-7d85-491b-a804-c2346d509415"
      },
      "outputs": [
        {
          "output_type": "stream",
          "name": "stdout",
          "text": [
            "Drive already mounted at /content/drive; to attempt to forcibly remount, call drive.mount(\"/content/drive\", force_remount=True).\n",
            "'Colab Notebooks'   my_text_file.txt\n",
            "'Colab Notebooks'   my_text_file.txt\n",
            "Файлик текстовый\n",
            "Ещё одна строчка.\n",
            "\n",
            "'Colab Notebooks'   my_text_file.txt   students.csv\n"
          ]
        }
      ],
      "source": [
        "from google.colab import drive\n",
        "drive.mount('/content/drive')\n",
        "\n",
        "!ls /content/drive/MyDrive\n",
        "\n",
        "file_path = \"/content/drive/MyDrive/my_text_file.txt\"\n",
        "\n",
        "# Открываем файл и записываем текст\n",
        "with open(file_path, \"w\") as file:\n",
        "    file.write(\"Файлик текстовый\\n\")\n",
        "    file.write(\"Ещё одна строчка.\\n\")\n",
        "\n",
        "# Проверяем, появился ли файл\n",
        "!ls /content/drive/MyDrive\n",
        "\n",
        "# Открываем файл и читаем содержимое\n",
        "with open(file_path, \"r\") as file:\n",
        "    content = file.read()\n",
        "    print(content)\n",
        "\n",
        "import csv\n",
        "\n",
        "csv_path = \"/content/drive/MyDrive/students.csv\"\n",
        "\n",
        "# Данные студентов\n",
        "students = [\n",
        "    [\"ФИО\", \"Возраст\", \"Группа\"],\n",
        "    [\"Нерсесян Арман\", 20, \"ИВТ-Б-О-23-2\"],\n",
        "    [\"Неутолимов Дмитрий\", 19, \"ИВТ-Б-О-23-2\"],\n",
        "    [\"Стародубцев Дмитрий\", 19, \"ИВТ-Б-О-23-2\"]\n",
        "]\n",
        "\n",
        "# Записываем в CSV\n",
        "with open(csv_path, \"w\", newline=\"\", encoding=\"utf-8\") as file:\n",
        "    writer = csv.writer(file)\n",
        "    writer.writerows(students)\n",
        "\n",
        "# Проверяем, появился ли файл\n",
        "!ls /content/drive/MyDrive\n"
      ]
    }
  ]
}